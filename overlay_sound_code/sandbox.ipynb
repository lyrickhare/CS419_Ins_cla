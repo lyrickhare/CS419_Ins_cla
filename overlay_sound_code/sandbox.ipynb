{
 "cells": [
  {
   "cell_type": "code",
   "execution_count": 1,
   "metadata": {},
   "outputs": [],
   "source": [
    "from scipy.io import wavfile\n",
    "import numpy as np\n",
    "import scipy\n",
    "import json\n",
    "import pandas as pd\n",
    "import matplotlib.pyplot as plt\n",
    "%matplotlib inline \n",
    "# from IPython.display import Audio \n",
    "# from vscode_audio import Audio\n",
    "import IPython.display\n",
    "import librosa\n",
    "import librosa.display\n",
    "import re\n",
    "\n",
    "def myAudio(audio: np.ndarray, sr: int):\n",
    "    \"\"\"\n",
    "    Use instead of IPython.display.Audio as a workaround for VS Code.\n",
    "    `audio` is an array with shape (channels, samples) or just (samples,) for mono.\n",
    "    \"\"\"\n",
    "\n",
    "    if np.ndim(audio) == 1:\n",
    "        channels = [audio.tolist()]\n",
    "    else:\n",
    "        channels = audio.tolist()\n",
    "\n",
    "    return IPython.display.HTML(\"\"\"\n",
    "        <script>\n",
    "            if (!window.audioContext) {\n",
    "                window.audioContext = new AudioContext();\n",
    "                window.playAudio = function(audioChannels, sr) {\n",
    "                    const buffer = audioContext.createBuffer(audioChannels.length, audioChannels[0].length, sr);\n",
    "                    for (let [channel, data] of audioChannels.entries()) {\n",
    "                        buffer.copyToChannel(Float32Array.from(data), channel);\n",
    "                    }\n",
    "            \n",
    "                    const source = audioContext.createBufferSource();\n",
    "                    source.buffer = buffer;\n",
    "                    source.connect(audioContext.destination);\n",
    "                    source.start();\n",
    "                }\n",
    "            }\n",
    "        </script>\n",
    "        <button onclick=\"playAudio(%s, %s)\">Play</button>\n",
    "    \"\"\" % (json.dumps(channels), sr))"
   ]
  },
  {
   "cell_type": "code",
   "execution_count": 2,
   "metadata": {},
   "outputs": [],
   "source": [
    "import os\n",
    "meta = pd.DataFrame(os.listdir('audio/')).set_axis(['wavfile'], axis=1)\n",
    "cat = [None]*meta.size\n",
    "for i in range(meta.size):\n",
    "    cat[i] = re.split(\"_\", re.sub(\"_\", \":\", meta.wavfile[i], 1))[0]\n",
    "meta['label'] = cat"
   ]
  },
  {
   "cell_type": "code",
   "execution_count": 3,
   "metadata": {},
   "outputs": [],
   "source": [
    "\n",
    "choice=['flute:synthetic','bass:electronic', 'vocal:acoustic']"
   ]
  },
  {
   "cell_type": "code",
   "execution_count": 4,
   "metadata": {},
   "outputs": [
    {
     "data": {
      "text/html": [
       "<div>\n",
       "<style scoped>\n",
       "    .dataframe tbody tr th:only-of-type {\n",
       "        vertical-align: middle;\n",
       "    }\n",
       "\n",
       "    .dataframe tbody tr th {\n",
       "        vertical-align: top;\n",
       "    }\n",
       "\n",
       "    .dataframe thead th {\n",
       "        text-align: right;\n",
       "    }\n",
       "</style>\n",
       "<table border=\"1\" class=\"dataframe\">\n",
       "  <thead>\n",
       "    <tr style=\"text-align: right;\">\n",
       "      <th></th>\n",
       "      <th>wavfile</th>\n",
       "      <th>label</th>\n",
       "    </tr>\n",
       "  </thead>\n",
       "  <tbody>\n",
       "    <tr>\n",
       "      <th>0</th>\n",
       "      <td>flute_synthetic_004-054-100.wav</td>\n",
       "      <td>flute:synthetic</td>\n",
       "    </tr>\n",
       "    <tr>\n",
       "      <th>1</th>\n",
       "      <td>flute_synthetic_002-082-127.wav</td>\n",
       "      <td>flute:synthetic</td>\n",
       "    </tr>\n",
       "    <tr>\n",
       "      <th>2</th>\n",
       "      <td>flute_synthetic_002-022-050.wav</td>\n",
       "      <td>flute:synthetic</td>\n",
       "    </tr>\n",
       "    <tr>\n",
       "      <th>3</th>\n",
       "      <td>flute_synthetic_002-034-075.wav</td>\n",
       "      <td>flute:synthetic</td>\n",
       "    </tr>\n",
       "    <tr>\n",
       "      <th>4</th>\n",
       "      <td>flute_synthetic_004-083-075.wav</td>\n",
       "      <td>flute:synthetic</td>\n",
       "    </tr>\n",
       "    <tr>\n",
       "      <th>...</th>\n",
       "      <td>...</td>\n",
       "      <td>...</td>\n",
       "    </tr>\n",
       "    <tr>\n",
       "      <th>2995</th>\n",
       "      <td>vocal_acoustic_022-081-127.wav</td>\n",
       "      <td>vocal:acoustic</td>\n",
       "    </tr>\n",
       "    <tr>\n",
       "      <th>2996</th>\n",
       "      <td>vocal_acoustic_005-061-050.wav</td>\n",
       "      <td>vocal:acoustic</td>\n",
       "    </tr>\n",
       "    <tr>\n",
       "      <th>2997</th>\n",
       "      <td>vocal_acoustic_023-077-100.wav</td>\n",
       "      <td>vocal:acoustic</td>\n",
       "    </tr>\n",
       "    <tr>\n",
       "      <th>2998</th>\n",
       "      <td>vocal_acoustic_024-064-050.wav</td>\n",
       "      <td>vocal:acoustic</td>\n",
       "    </tr>\n",
       "    <tr>\n",
       "      <th>2999</th>\n",
       "      <td>vocal_acoustic_017-040-075.wav</td>\n",
       "      <td>vocal:acoustic</td>\n",
       "    </tr>\n",
       "  </tbody>\n",
       "</table>\n",
       "<p>3000 rows × 2 columns</p>\n",
       "</div>"
      ],
      "text/plain": [
       "                              wavfile            label\n",
       "0     flute_synthetic_004-054-100.wav  flute:synthetic\n",
       "1     flute_synthetic_002-082-127.wav  flute:synthetic\n",
       "2     flute_synthetic_002-022-050.wav  flute:synthetic\n",
       "3     flute_synthetic_002-034-075.wav  flute:synthetic\n",
       "4     flute_synthetic_004-083-075.wav  flute:synthetic\n",
       "...                               ...              ...\n",
       "2995   vocal_acoustic_022-081-127.wav   vocal:acoustic\n",
       "2996   vocal_acoustic_005-061-050.wav   vocal:acoustic\n",
       "2997   vocal_acoustic_023-077-100.wav   vocal:acoustic\n",
       "2998   vocal_acoustic_024-064-050.wav   vocal:acoustic\n",
       "2999   vocal_acoustic_017-040-075.wav   vocal:acoustic\n",
       "\n",
       "[3000 rows x 2 columns]"
      ]
     },
     "execution_count": 4,
     "metadata": {},
     "output_type": "execute_result"
    }
   ],
   "source": [
    "train = pd.DataFrame()\n",
    "for i in range(3):\n",
    "    c = choice[i]\n",
    "    train = pd.concat([train, meta.query(\"label == @c\").sample(1000)], ignore_index=True)\n",
    "train"
   ]
  },
  {
   "cell_type": "code",
   "execution_count": 5,
   "metadata": {},
   "outputs": [],
   "source": [
    "X = [None]*train.wavfile.size\n",
    "y = train.label\n",
    "\n",
    "def scaledNNfeatures(filename):\n",
    "    data, rate = librosa.load(filename)\n",
    "    return np.mean(librosa.feature.mfcc(y=data, sr=rate, n_mfcc=40).T, axis=0)\n",
    "\n",
    "for i in range(train.wavfile.size):\n",
    "    X[i] = scaledNNfeatures('audio/'+train.wavfile[i])\n",
    "    X[i] = X[i].reshape(40)\n",
    "    y[i] = train.label[i]\n",
    "\n"
   ]
  },
  {
   "cell_type": "markdown",
   "metadata": {},
   "source": [
    "## Train-Test Split"
   ]
  },
  {
   "cell_type": "code",
   "execution_count": 6,
   "metadata": {},
   "outputs": [],
   "source": [
    "from sklearn.model_selection import train_test_split\n",
    "X_train,X_test,y_train,y_test=train_test_split(X,y,test_size=0.2,random_state=0)"
   ]
  },
  {
   "cell_type": "code",
   "execution_count": 7,
   "metadata": {},
   "outputs": [
    {
     "name": "stdout",
     "output_type": "stream",
     "text": [
      "Accuracy of Logistic regression classifier on training set: 0.82\n",
      "Accuracy of Logistic regression classifier on test set: 0.78\n"
     ]
    },
    {
     "name": "stderr",
     "output_type": "stream",
     "text": [
      "C:\\Users\\lyric\\anaconda3\\lib\\site-packages\\sklearn\\linear_model\\_logistic.py:763: ConvergenceWarning: lbfgs failed to converge (status=1):\n",
      "STOP: TOTAL NO. of ITERATIONS REACHED LIMIT.\n",
      "\n",
      "Increase the number of iterations (max_iter) or scale the data as shown in:\n",
      "    https://scikit-learn.org/stable/modules/preprocessing.html\n",
      "Please also refer to the documentation for alternative solver options:\n",
      "    https://scikit-learn.org/stable/modules/linear_model.html#logistic-regression\n",
      "  n_iter_i = _check_optimize_result(\n"
     ]
    }
   ],
   "source": [
    "from sklearn.linear_model import LogisticRegression\n",
    "logreg = LogisticRegression()\n",
    "model=logreg.fit(X_train, y_train)\n",
    "print('Accuracy of Logistic regression classifier on training set: {:.2f}'\n",
    "     .format(logreg.score(X_train, y_train)))\n",
    "print('Accuracy of Logistic regression classifier on test set: {:.2f}'\n",
    "     .format(logreg.score(X_test, y_test)))"
   ]
  },
  {
   "cell_type": "code",
   "execution_count": 8,
   "metadata": {},
   "outputs": [],
   "source": [
    "mixed_mfcc=pd.read_csv('features1.csv')"
   ]
  },
  {
   "cell_type": "code",
   "execution_count": 9,
   "metadata": {},
   "outputs": [],
   "source": [
    "mixed_mfcc_1=mixed_mfcc[mixed_mfcc.columns[0:40]]"
   ]
  },
  {
   "cell_type": "code",
   "execution_count": 10,
   "metadata": {},
   "outputs": [],
   "source": [
    "probs=model.predict_proba(mixed_mfcc_1)"
   ]
  },
  {
   "cell_type": "code",
   "execution_count": 11,
   "metadata": {},
   "outputs": [],
   "source": [
    "cnt=0\n",
    "for i in range (150):\n",
    "        if(probs[i][0]<probs[i][1] and probs[i][0]<probs[i][2]):\n",
    "            x=2;\n",
    "            if (x==mixed_mfcc.at[i,'label']):\n",
    "                cnt=cnt+1\n",
    "        if(probs[i][1]<probs[i][0] and probs[i][1]<probs[i][2]):\n",
    "            x=3;\n",
    "            if (x==mixed_mfcc.at[i,'label']):\n",
    "                cnt=cnt+1\n",
    "        if(probs[i][2]<probs[i][1] and probs[i][2]<probs[i][0]):\n",
    "            x=1;\n",
    "            if (x==mixed_mfcc.at[i,'label']):\n",
    "                cnt=cnt+1\n",
    "            \n",
    "            \n",
    "        "
   ]
  },
  {
   "cell_type": "code",
   "execution_count": 14,
   "metadata": {},
   "outputs": [],
   "source": [
    "accuracy=cnt/mixed_mfcc.shape[0]"
   ]
  },
  {
   "cell_type": "code",
   "execution_count": 15,
   "metadata": {},
   "outputs": [
    {
     "data": {
      "text/plain": [
       "0.6333333333333333"
      ]
     },
     "execution_count": 15,
     "metadata": {},
     "output_type": "execute_result"
    }
   ],
   "source": [
    "accuracy"
   ]
  },
  {
   "cell_type": "code",
   "execution_count": null,
   "metadata": {},
   "outputs": [],
   "source": []
  }
 ],
 "metadata": {
  "interpreter": {
   "hash": "b01ab086a0250251bc58f227bc2df0f4eb10b9c597481772f2c02bd8a1021fb1"
  },
  "kernelspec": {
   "display_name": "Python 3 (ipykernel)",
   "language": "python",
   "name": "python3"
  },
  "language_info": {
   "codemirror_mode": {
    "name": "ipython",
    "version": 3
   },
   "file_extension": ".py",
   "mimetype": "text/x-python",
   "name": "python",
   "nbconvert_exporter": "python",
   "pygments_lexer": "ipython3",
   "version": "3.9.7"
  }
 },
 "nbformat": 4,
 "nbformat_minor": 2
}
