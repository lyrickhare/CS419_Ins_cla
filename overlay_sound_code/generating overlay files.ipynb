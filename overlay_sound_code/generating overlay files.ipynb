{
 "cells": [
  {
   "cell_type": "code",
   "execution_count": 1,
   "id": "a6f50038",
   "metadata": {},
   "outputs": [
    {
     "name": "stdout",
     "output_type": "stream",
     "text": [
      "Requirement already satisfied: pydub in c:\\users\\lyric\\anaconda3\\lib\\site-packages (0.25.1)\n",
      "Note: you may need to restart the kernel to use updated packages.\n"
     ]
    }
   ],
   "source": [
    "pip install pydub"
   ]
  },
  {
   "cell_type": "code",
   "execution_count": 2,
   "id": "98b88ae2",
   "metadata": {},
   "outputs": [
    {
     "name": "stderr",
     "output_type": "stream",
     "text": [
      "C:\\Users\\lyric\\anaconda3\\lib\\site-packages\\pydub\\utils.py:170: RuntimeWarning: Couldn't find ffmpeg or avconv - defaulting to ffmpeg, but may not work\n",
      "  warn(\"Couldn't find ffmpeg or avconv - defaulting to ffmpeg, but may not work\", RuntimeWarning)\n"
     ]
    }
   ],
   "source": [
    "from pydub import AudioSegment, effects "
   ]
  },
  {
   "cell_type": "code",
   "execution_count": 3,
   "id": "48bdd627",
   "metadata": {},
   "outputs": [],
   "source": [
    "import os\n",
    "import pandas as pd\n",
    "import numpy as np"
   ]
  },
  {
   "cell_type": "code",
   "execution_count": 4,
   "id": "8624a2fa",
   "metadata": {},
   "outputs": [],
   "source": [
    "meta_flute=pd.DataFrame(os.listdir('flute/')).set_axis(['wavfile'],axis=1)\n",
    "meta_flute['label']=['flute']*meta_flute.size"
   ]
  },
  {
   "cell_type": "code",
   "execution_count": 5,
   "id": "0981c1d1",
   "metadata": {},
   "outputs": [],
   "source": [
    "meta_guitar=pd.DataFrame(os.listdir('guitar/')).set_axis(['wavfile'],axis=1) #initially we used guitar but then switched to bass:electronic to check the accuracy on different sets. So the name of folder is guitar but it has bass:electronic files.\n",
    "meta_guitar['label']=['guitar']*meta_guitar.size"
   ]
  },
  {
   "cell_type": "code",
   "execution_count": 6,
   "id": "c655a0ab",
   "metadata": {},
   "outputs": [],
   "source": [
    "meta_vocal=pd.DataFrame(os.listdir('vocal/')).set_axis(['wavfile'],axis=1)\n",
    "meta_vocal['label']=['vocal']*meta_vocal.size"
   ]
  },
  {
   "cell_type": "code",
   "execution_count": 7,
   "id": "94708b24",
   "metadata": {},
   "outputs": [],
   "source": [
    "a=meta_flute.at[0,\"wavfile\"]"
   ]
  },
  {
   "cell_type": "code",
   "execution_count": 8,
   "id": "883704ff",
   "metadata": {},
   "outputs": [],
   "source": [
    "b=meta_guitar.at[0,\"wavfile\"]"
   ]
  },
  {
   "cell_type": "code",
   "execution_count": 9,
   "id": "6bf878de",
   "metadata": {},
   "outputs": [],
   "source": [
    "a_1 = AudioSegment.from_file('flute/'+a)"
   ]
  },
  {
   "cell_type": "code",
   "execution_count": 10,
   "id": "28ee2a9b",
   "metadata": {},
   "outputs": [],
   "source": [
    "b_1 = AudioSegment.from_file('guitar/'+b)"
   ]
  },
  {
   "cell_type": "code",
   "execution_count": 11,
   "id": "2cc58e8d",
   "metadata": {},
   "outputs": [],
   "source": [
    "a2=effects.normalize(a_1)"
   ]
  },
  {
   "cell_type": "code",
   "execution_count": 12,
   "id": "38d01ada",
   "metadata": {},
   "outputs": [],
   "source": [
    "b2=effects.normalize(b_1)"
   ]
  },
  {
   "cell_type": "code",
   "execution_count": 13,
   "id": "240d7ab1",
   "metadata": {},
   "outputs": [],
   "source": [
    "c=a2.overlay(b2)"
   ]
  },
  {
   "cell_type": "code",
   "execution_count": 14,
   "id": "b153c345",
   "metadata": {},
   "outputs": [
    {
     "data": {
      "text/plain": [
       "<_io.BufferedRandom name='louder_wav_file.wav'>"
      ]
     },
     "execution_count": 14,
     "metadata": {},
     "output_type": "execute_result"
    }
   ],
   "source": [
    "c.export(out_f = \"louder_wav_file.wav\", \n",
    "                       format = \"wav\")"
   ]
  },
  {
   "cell_type": "code",
   "execution_count": 15,
   "id": "7b71de79",
   "metadata": {},
   "outputs": [
    {
     "data": {
      "text/plain": [
       "<_io.BufferedRandom name='a2.wav'>"
      ]
     },
     "execution_count": 15,
     "metadata": {},
     "output_type": "execute_result"
    }
   ],
   "source": [
    "a2.export(out_f = \"a2.wav\", \n",
    "                       format = \"wav\")"
   ]
  },
  {
   "cell_type": "code",
   "execution_count": 16,
   "id": "865163e7",
   "metadata": {},
   "outputs": [
    {
     "data": {
      "text/plain": [
       "<_io.BufferedRandom name='b2.wav'>"
      ]
     },
     "execution_count": 16,
     "metadata": {},
     "output_type": "execute_result"
    }
   ],
   "source": [
    "b2.export(out_f = \"b2.wav\", \n",
    "                       format = \"wav\")"
   ]
  },
  {
   "cell_type": "code",
   "execution_count": 17,
   "id": "3a8d13db",
   "metadata": {},
   "outputs": [],
   "source": [
    "for i in range (50):\n",
    "    a=meta_flute.at[i,\"wavfile\"]\n",
    "    b=meta_guitar.at[i,\"wavfile\"]\n",
    "    a1=AudioSegment.from_file('flute/'+a)\n",
    "    b1=AudioSegment.from_file('guitar/'+b)\n",
    "    a1=effects.normalize(a1)\n",
    "    b1=effects.normalize(b1)\n",
    "    c=a1.overlay(b1)\n",
    "    c.export(out_f='gf/gf'+str(i)+'.wav',format = \"wav\")\n",
    "    "
   ]
  },
  {
   "cell_type": "code",
   "execution_count": 18,
   "id": "c37bbad1",
   "metadata": {},
   "outputs": [],
   "source": [
    "for i in range (50):\n",
    "    a=meta_vocal.at[i,\"wavfile\"]\n",
    "    b=meta_guitar.at[i,\"wavfile\"]\n",
    "    a1=AudioSegment.from_file('vocal/'+a)\n",
    "    b1=AudioSegment.from_file('guitar/'+b)\n",
    "    a1=effects.normalize(a1)\n",
    "    b1=effects.normalize(b1)\n",
    "    c=a1.overlay(b1)\n",
    "    c.export(out_f='gv/gv'+str(i)+'.wav',format = \"wav\")"
   ]
  },
  {
   "cell_type": "code",
   "execution_count": 19,
   "id": "9d3bd82a",
   "metadata": {},
   "outputs": [],
   "source": [
    "for i in range (50):\n",
    "    a=meta_vocal.at[i,\"wavfile\"]\n",
    "    b=meta_flute.at[i,\"wavfile\"]\n",
    "    a1=AudioSegment.from_file('vocal/'+a)\n",
    "    b1=AudioSegment.from_file('flute/'+b)\n",
    "    a1=effects.normalize(a1)\n",
    "    b1=effects.normalize(b1)\n",
    "    c=a1.overlay(b1)\n",
    "    c.export(out_f='fv/fv'+str(i)+'.wav',format = \"wav\")"
   ]
  },
  {
   "cell_type": "code",
   "execution_count": null,
   "id": "19358557",
   "metadata": {},
   "outputs": [],
   "source": []
  }
 ],
 "metadata": {
  "kernelspec": {
   "display_name": "Python 3 (ipykernel)",
   "language": "python",
   "name": "python3"
  },
  "language_info": {
   "codemirror_mode": {
    "name": "ipython",
    "version": 3
   },
   "file_extension": ".py",
   "mimetype": "text/x-python",
   "name": "python",
   "nbconvert_exporter": "python",
   "pygments_lexer": "ipython3",
   "version": "3.9.7"
  }
 },
 "nbformat": 4,
 "nbformat_minor": 5
}
